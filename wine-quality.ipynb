{
 "cells": [
  {
   "cell_type": "code",
   "execution_count": 1,
   "id": "9f7c05d5",
   "metadata": {
    "_cell_guid": "b1076dfc-b9ad-4769-8c92-a6c4dae69d19",
    "_uuid": "8f2839f25d086af736a60e9eeb907d3b93b6e0e5",
    "execution": {
     "iopub.execute_input": "2022-10-02T12:25:30.560934Z",
     "iopub.status.busy": "2022-10-02T12:25:30.560256Z",
     "iopub.status.idle": "2022-10-02T12:25:30.578872Z",
     "shell.execute_reply": "2022-10-02T12:25:30.577852Z"
    },
    "papermill": {
     "duration": 0.035977,
     "end_time": "2022-10-02T12:25:30.582316",
     "exception": false,
     "start_time": "2022-10-02T12:25:30.546339",
     "status": "completed"
    },
    "tags": []
   },
   "outputs": [
    {
     "name": "stdout",
     "output_type": "stream",
     "text": [
      "/kaggle/input/red-wine-quality-cortez-et-al-2009/winequality-red.csv\n"
     ]
    }
   ],
   "source": [
    "# This Python 3 environment comes with many helpful analytics libraries installed\n",
    "# It is defined by the kaggle/python Docker image: https://github.com/kaggle/docker-python\n",
    "# For example, here's several helpful packages to load\n",
    "\n",
    "import numpy as np # linear algebra\n",
    "import pandas as pd # data processing, CSV file I/O (e.g. pd.read_csv)\n",
    "\n",
    "# Input data files are available in the read-only \"../input/\" directory\n",
    "# For example, running this (by clicking run or pressing Shift+Enter) will list all files under the input directory\n",
    "\n",
    "import os\n",
    "for dirname, _, filenames in os.walk('/kaggle/input'):\n",
    "    for filename in filenames:\n",
    "        print(os.path.join(dirname, filename))\n",
    "\n",
    "# You can write up to 20GB to the current directory (/kaggle/working/) that gets preserved as output when you create a version using \"Save & Run All\" \n",
    "# You can also write temporary files to /kaggle/temp/, but they won't be saved outside of the current session"
   ]
  },
  {
   "cell_type": "code",
   "execution_count": 2,
   "id": "e4b4777b",
   "metadata": {
    "execution": {
     "iopub.execute_input": "2022-10-02T12:25:30.606149Z",
     "iopub.status.busy": "2022-10-02T12:25:30.605379Z",
     "iopub.status.idle": "2022-10-02T12:25:30.662646Z",
     "shell.execute_reply": "2022-10-02T12:25:30.661250Z"
    },
    "papermill": {
     "duration": 0.071611,
     "end_time": "2022-10-02T12:25:30.665347",
     "exception": false,
     "start_time": "2022-10-02T12:25:30.593736",
     "status": "completed"
    },
    "tags": []
   },
   "outputs": [
    {
     "data": {
      "text/html": [
       "<div>\n",
       "<style scoped>\n",
       "    .dataframe tbody tr th:only-of-type {\n",
       "        vertical-align: middle;\n",
       "    }\n",
       "\n",
       "    .dataframe tbody tr th {\n",
       "        vertical-align: top;\n",
       "    }\n",
       "\n",
       "    .dataframe thead th {\n",
       "        text-align: right;\n",
       "    }\n",
       "</style>\n",
       "<table border=\"1\" class=\"dataframe\">\n",
       "  <thead>\n",
       "    <tr style=\"text-align: right;\">\n",
       "      <th></th>\n",
       "      <th>fixed acidity</th>\n",
       "      <th>volatile acidity</th>\n",
       "      <th>citric acid</th>\n",
       "      <th>residual sugar</th>\n",
       "      <th>chlorides</th>\n",
       "      <th>free sulfur dioxide</th>\n",
       "      <th>total sulfur dioxide</th>\n",
       "      <th>density</th>\n",
       "      <th>pH</th>\n",
       "      <th>sulphates</th>\n",
       "      <th>alcohol</th>\n",
       "      <th>quality</th>\n",
       "    </tr>\n",
       "  </thead>\n",
       "  <tbody>\n",
       "    <tr>\n",
       "      <th>0</th>\n",
       "      <td>7.4</td>\n",
       "      <td>0.70</td>\n",
       "      <td>0.00</td>\n",
       "      <td>1.9</td>\n",
       "      <td>0.076</td>\n",
       "      <td>11.0</td>\n",
       "      <td>34.0</td>\n",
       "      <td>0.9978</td>\n",
       "      <td>3.51</td>\n",
       "      <td>0.56</td>\n",
       "      <td>9.4</td>\n",
       "      <td>5</td>\n",
       "    </tr>\n",
       "    <tr>\n",
       "      <th>1</th>\n",
       "      <td>7.8</td>\n",
       "      <td>0.88</td>\n",
       "      <td>0.00</td>\n",
       "      <td>2.6</td>\n",
       "      <td>0.098</td>\n",
       "      <td>25.0</td>\n",
       "      <td>67.0</td>\n",
       "      <td>0.9968</td>\n",
       "      <td>3.20</td>\n",
       "      <td>0.68</td>\n",
       "      <td>9.8</td>\n",
       "      <td>5</td>\n",
       "    </tr>\n",
       "    <tr>\n",
       "      <th>2</th>\n",
       "      <td>7.8</td>\n",
       "      <td>0.76</td>\n",
       "      <td>0.04</td>\n",
       "      <td>2.3</td>\n",
       "      <td>0.092</td>\n",
       "      <td>15.0</td>\n",
       "      <td>54.0</td>\n",
       "      <td>0.9970</td>\n",
       "      <td>3.26</td>\n",
       "      <td>0.65</td>\n",
       "      <td>9.8</td>\n",
       "      <td>5</td>\n",
       "    </tr>\n",
       "    <tr>\n",
       "      <th>3</th>\n",
       "      <td>11.2</td>\n",
       "      <td>0.28</td>\n",
       "      <td>0.56</td>\n",
       "      <td>1.9</td>\n",
       "      <td>0.075</td>\n",
       "      <td>17.0</td>\n",
       "      <td>60.0</td>\n",
       "      <td>0.9980</td>\n",
       "      <td>3.16</td>\n",
       "      <td>0.58</td>\n",
       "      <td>9.8</td>\n",
       "      <td>6</td>\n",
       "    </tr>\n",
       "    <tr>\n",
       "      <th>4</th>\n",
       "      <td>7.4</td>\n",
       "      <td>0.70</td>\n",
       "      <td>0.00</td>\n",
       "      <td>1.9</td>\n",
       "      <td>0.076</td>\n",
       "      <td>11.0</td>\n",
       "      <td>34.0</td>\n",
       "      <td>0.9978</td>\n",
       "      <td>3.51</td>\n",
       "      <td>0.56</td>\n",
       "      <td>9.4</td>\n",
       "      <td>5</td>\n",
       "    </tr>\n",
       "  </tbody>\n",
       "</table>\n",
       "</div>"
      ],
      "text/plain": [
       "   fixed acidity  volatile acidity  citric acid  residual sugar  chlorides  \\\n",
       "0            7.4              0.70         0.00             1.9      0.076   \n",
       "1            7.8              0.88         0.00             2.6      0.098   \n",
       "2            7.8              0.76         0.04             2.3      0.092   \n",
       "3           11.2              0.28         0.56             1.9      0.075   \n",
       "4            7.4              0.70         0.00             1.9      0.076   \n",
       "\n",
       "   free sulfur dioxide  total sulfur dioxide  density    pH  sulphates  \\\n",
       "0                 11.0                  34.0   0.9978  3.51       0.56   \n",
       "1                 25.0                  67.0   0.9968  3.20       0.68   \n",
       "2                 15.0                  54.0   0.9970  3.26       0.65   \n",
       "3                 17.0                  60.0   0.9980  3.16       0.58   \n",
       "4                 11.0                  34.0   0.9978  3.51       0.56   \n",
       "\n",
       "   alcohol  quality  \n",
       "0      9.4        5  \n",
       "1      9.8        5  \n",
       "2      9.8        5  \n",
       "3      9.8        6  \n",
       "4      9.4        5  "
      ]
     },
     "execution_count": 2,
     "metadata": {},
     "output_type": "execute_result"
    }
   ],
   "source": [
    "wine= pd.read_csv(\"../input/red-wine-quality-cortez-et-al-2009/winequality-red.csv\")\n",
    "wine.head()"
   ]
  },
  {
   "cell_type": "code",
   "execution_count": 3,
   "id": "a1db58fc",
   "metadata": {
    "execution": {
     "iopub.execute_input": "2022-10-02T12:25:30.690360Z",
     "iopub.status.busy": "2022-10-02T12:25:30.689291Z",
     "iopub.status.idle": "2022-10-02T12:25:30.697007Z",
     "shell.execute_reply": "2022-10-02T12:25:30.696107Z"
    },
    "papermill": {
     "duration": 0.023354,
     "end_time": "2022-10-02T12:25:30.699305",
     "exception": false,
     "start_time": "2022-10-02T12:25:30.675951",
     "status": "completed"
    },
    "tags": []
   },
   "outputs": [
    {
     "data": {
      "text/plain": [
       "array([ 7.4   ,  0.7   ,  0.    ,  1.9   ,  0.076 , 11.    , 34.    ,\n",
       "        0.9978,  3.51  ,  0.56  ,  9.4   ,  5.    ])"
      ]
     },
     "execution_count": 3,
     "metadata": {},
     "output_type": "execute_result"
    }
   ],
   "source": [
    "wine.values[0]"
   ]
  },
  {
   "cell_type": "code",
   "execution_count": 4,
   "id": "f18c9278",
   "metadata": {
    "execution": {
     "iopub.execute_input": "2022-10-02T12:25:30.722373Z",
     "iopub.status.busy": "2022-10-02T12:25:30.721924Z",
     "iopub.status.idle": "2022-10-02T12:25:30.727533Z",
     "shell.execute_reply": "2022-10-02T12:25:30.726648Z"
    },
    "papermill": {
     "duration": 0.019634,
     "end_time": "2022-10-02T12:25:30.729633",
     "exception": false,
     "start_time": "2022-10-02T12:25:30.709999",
     "status": "completed"
    },
    "tags": []
   },
   "outputs": [],
   "source": [
    "def preprocessing(data):\n",
    "    data.rename(columns={'fixed acidity':'fixed_acidity', \n",
    "                         'volatile acidity':'volatile_acidity',\n",
    "                         'citric acid':'citric_acid',\n",
    "                         'residual sugar':'residual_sugar',\n",
    "                         'free sulfur dioxide':'free_sulfur_dioxide',\n",
    "                         'total sulfur dioxide':'total_sulfur_dioxide'}, inplace=True)\n",
    "    "
   ]
  },
  {
   "cell_type": "code",
   "execution_count": 5,
   "id": "6f80ad36",
   "metadata": {
    "execution": {
     "iopub.execute_input": "2022-10-02T12:25:30.753016Z",
     "iopub.status.busy": "2022-10-02T12:25:30.752320Z",
     "iopub.status.idle": "2022-10-02T12:25:30.776555Z",
     "shell.execute_reply": "2022-10-02T12:25:30.775225Z"
    },
    "papermill": {
     "duration": 0.038955,
     "end_time": "2022-10-02T12:25:30.779284",
     "exception": false,
     "start_time": "2022-10-02T12:25:30.740329",
     "status": "completed"
    },
    "tags": []
   },
   "outputs": [
    {
     "data": {
      "text/html": [
       "<div>\n",
       "<style scoped>\n",
       "    .dataframe tbody tr th:only-of-type {\n",
       "        vertical-align: middle;\n",
       "    }\n",
       "\n",
       "    .dataframe tbody tr th {\n",
       "        vertical-align: top;\n",
       "    }\n",
       "\n",
       "    .dataframe thead th {\n",
       "        text-align: right;\n",
       "    }\n",
       "</style>\n",
       "<table border=\"1\" class=\"dataframe\">\n",
       "  <thead>\n",
       "    <tr style=\"text-align: right;\">\n",
       "      <th></th>\n",
       "      <th>fixed_acidity</th>\n",
       "      <th>volatile_acidity</th>\n",
       "      <th>citric_acid</th>\n",
       "      <th>residual_sugar</th>\n",
       "      <th>chlorides</th>\n",
       "      <th>free_sulfur_dioxide</th>\n",
       "      <th>total_sulfur_dioxide</th>\n",
       "      <th>density</th>\n",
       "      <th>pH</th>\n",
       "      <th>sulphates</th>\n",
       "      <th>alcohol</th>\n",
       "      <th>quality</th>\n",
       "    </tr>\n",
       "  </thead>\n",
       "  <tbody>\n",
       "    <tr>\n",
       "      <th>0</th>\n",
       "      <td>7.4</td>\n",
       "      <td>0.70</td>\n",
       "      <td>0.00</td>\n",
       "      <td>1.9</td>\n",
       "      <td>0.076</td>\n",
       "      <td>11.0</td>\n",
       "      <td>34.0</td>\n",
       "      <td>0.9978</td>\n",
       "      <td>3.51</td>\n",
       "      <td>0.56</td>\n",
       "      <td>9.4</td>\n",
       "      <td>5</td>\n",
       "    </tr>\n",
       "    <tr>\n",
       "      <th>1</th>\n",
       "      <td>7.8</td>\n",
       "      <td>0.88</td>\n",
       "      <td>0.00</td>\n",
       "      <td>2.6</td>\n",
       "      <td>0.098</td>\n",
       "      <td>25.0</td>\n",
       "      <td>67.0</td>\n",
       "      <td>0.9968</td>\n",
       "      <td>3.20</td>\n",
       "      <td>0.68</td>\n",
       "      <td>9.8</td>\n",
       "      <td>5</td>\n",
       "    </tr>\n",
       "    <tr>\n",
       "      <th>2</th>\n",
       "      <td>7.8</td>\n",
       "      <td>0.76</td>\n",
       "      <td>0.04</td>\n",
       "      <td>2.3</td>\n",
       "      <td>0.092</td>\n",
       "      <td>15.0</td>\n",
       "      <td>54.0</td>\n",
       "      <td>0.9970</td>\n",
       "      <td>3.26</td>\n",
       "      <td>0.65</td>\n",
       "      <td>9.8</td>\n",
       "      <td>5</td>\n",
       "    </tr>\n",
       "    <tr>\n",
       "      <th>3</th>\n",
       "      <td>11.2</td>\n",
       "      <td>0.28</td>\n",
       "      <td>0.56</td>\n",
       "      <td>1.9</td>\n",
       "      <td>0.075</td>\n",
       "      <td>17.0</td>\n",
       "      <td>60.0</td>\n",
       "      <td>0.9980</td>\n",
       "      <td>3.16</td>\n",
       "      <td>0.58</td>\n",
       "      <td>9.8</td>\n",
       "      <td>6</td>\n",
       "    </tr>\n",
       "    <tr>\n",
       "      <th>4</th>\n",
       "      <td>7.4</td>\n",
       "      <td>0.70</td>\n",
       "      <td>0.00</td>\n",
       "      <td>1.9</td>\n",
       "      <td>0.076</td>\n",
       "      <td>11.0</td>\n",
       "      <td>34.0</td>\n",
       "      <td>0.9978</td>\n",
       "      <td>3.51</td>\n",
       "      <td>0.56</td>\n",
       "      <td>9.4</td>\n",
       "      <td>5</td>\n",
       "    </tr>\n",
       "  </tbody>\n",
       "</table>\n",
       "</div>"
      ],
      "text/plain": [
       "   fixed_acidity  volatile_acidity  citric_acid  residual_sugar  chlorides  \\\n",
       "0            7.4              0.70         0.00             1.9      0.076   \n",
       "1            7.8              0.88         0.00             2.6      0.098   \n",
       "2            7.8              0.76         0.04             2.3      0.092   \n",
       "3           11.2              0.28         0.56             1.9      0.075   \n",
       "4            7.4              0.70         0.00             1.9      0.076   \n",
       "\n",
       "   free_sulfur_dioxide  total_sulfur_dioxide  density    pH  sulphates  \\\n",
       "0                 11.0                  34.0   0.9978  3.51       0.56   \n",
       "1                 25.0                  67.0   0.9968  3.20       0.68   \n",
       "2                 15.0                  54.0   0.9970  3.26       0.65   \n",
       "3                 17.0                  60.0   0.9980  3.16       0.58   \n",
       "4                 11.0                  34.0   0.9978  3.51       0.56   \n",
       "\n",
       "   alcohol  quality  \n",
       "0      9.4        5  \n",
       "1      9.8        5  \n",
       "2      9.8        5  \n",
       "3      9.8        6  \n",
       "4      9.4        5  "
      ]
     },
     "execution_count": 5,
     "metadata": {},
     "output_type": "execute_result"
    }
   ],
   "source": [
    "preprocessing(wine)\n",
    "wine.head()"
   ]
  },
  {
   "cell_type": "code",
   "execution_count": 6,
   "id": "c4e10639",
   "metadata": {
    "execution": {
     "iopub.execute_input": "2022-10-02T12:25:30.802656Z",
     "iopub.status.busy": "2022-10-02T12:25:30.802242Z",
     "iopub.status.idle": "2022-10-02T12:25:31.818440Z",
     "shell.execute_reply": "2022-10-02T12:25:31.817256Z"
    },
    "papermill": {
     "duration": 1.030951,
     "end_time": "2022-10-02T12:25:31.821350",
     "exception": false,
     "start_time": "2022-10-02T12:25:30.790399",
     "status": "completed"
    },
    "tags": []
   },
   "outputs": [],
   "source": [
    "import pandas as pd\n",
    "import numpy as np\n",
    "import matplotlib.pyplot as plt\n",
    "import seaborn as sns\n"
   ]
  },
  {
   "cell_type": "markdown",
   "id": "03cae5af",
   "metadata": {
    "papermill": {
     "duration": 0.010435,
     "end_time": "2022-10-02T12:25:31.843142",
     "exception": false,
     "start_time": "2022-10-02T12:25:31.832707",
     "status": "completed"
    },
    "tags": []
   },
   "source": [
    "## quality vs fixed_acidity"
   ]
  },
  {
   "cell_type": "code",
   "execution_count": 7,
   "id": "f2ec5391",
   "metadata": {
    "execution": {
     "iopub.execute_input": "2022-10-02T12:25:31.866685Z",
     "iopub.status.busy": "2022-10-02T12:25:31.866286Z",
     "iopub.status.idle": "2022-10-02T12:25:32.407928Z",
     "shell.execute_reply": "2022-10-02T12:25:32.406473Z"
    },
    "papermill": {
     "duration": 0.556264,
     "end_time": "2022-10-02T12:25:32.410314",
     "exception": false,
     "start_time": "2022-10-02T12:25:31.854050",
     "status": "completed"
    },
    "tags": []
   },
   "outputs": [
    {
     "data": {
      "text/plain": [
       "<AxesSubplot:xlabel='quality', ylabel='fixed_acidity'>"
      ]
     },
     "execution_count": 7,
     "metadata": {},
     "output_type": "execute_result"
    },
    {
     "data": {
      "image/png": "[encoded data removed]",
      "text/plain": [
       "<Figure size 720x432 with 1 Axes>"
      ]
     },
     "metadata": {
      "needs_background": "light"
     },
     "output_type": "display_data"
    }
   ],
   "source": [
    "fig= plt.figure(figsize=(10,6))\n",
    "sns.barplot(x='quality',y='fixed_acidity', data= wine)"
   ]
  },
  {
   "cell_type": "markdown",
   "id": "9ba53e44",
   "metadata": {
    "papermill": {
     "duration": 0.010839,
     "end_time": "2022-10-02T12:25:32.432518",
     "exception": false,
     "start_time": "2022-10-02T12:25:32.421679",
     "status": "completed"
    },
    "tags": []
   },
   "source": [
    "* Nothing more significant observing the above graph"
   ]
  },
  {
   "cell_type": "markdown",
   "id": "f83fea72",
   "metadata": {
    "papermill": {
     "duration": 0.01078,
     "end_time": "2022-10-02T12:25:32.454391",
     "exception": false,
     "start_time": "2022-10-02T12:25:32.443611",
     "status": "completed"
    },
    "tags": []
   },
   "source": [
    "# quality vs volatile_acidity"
   ]
  },
  {
   "cell_type": "code",
   "execution_count": 8,
   "id": "ec8aca21",
   "metadata": {
    "execution": {
     "iopub.execute_input": "2022-10-02T12:25:32.479520Z",
     "iopub.status.busy": "2022-10-02T12:25:32.478204Z",
     "iopub.status.idle": "2022-10-02T12:25:32.949526Z",
     "shell.execute_reply": "2022-10-02T12:25:32.948327Z"
    },
    "papermill": {
     "duration": 0.486465,
     "end_time": "2022-10-02T12:25:32.951980",
     "exception": false,
     "start_time": "2022-10-02T12:25:32.465515",
     "status": "completed"
    },
    "tags": []
   },
   "outputs": [
    {
     "data": {
      "text/plain": [
       "<AxesSubplot:xlabel='quality', ylabel='volatile_acidity'>"
      ]
     },
     "execution_count": 8,
     "metadata": {},
     "output_type": "execute_result"
    },
    {
     "data": {
      "image/png": "[encoded data removed]",
      "text/plain": [
       "<Figure size 720x432 with 1 Axes>"
      ]
     },
     "metadata": {
      "needs_background": "light"
     },
     "output_type": "display_data"
    }
   ],
   "source": [
    "fig= plt.figure(figsize=(10,6))\n",
    "sns.barplot(x='quality',y='volatile_acidity', data= wine)"
   ]
  },
  {
   "cell_type": "markdown",
   "id": "a8aa7a85",
   "metadata": {
    "papermill": {
     "duration": 0.011152,
     "end_time": "2022-10-02T12:25:32.974825",
     "exception": false,
     "start_time": "2022-10-02T12:25:32.963673",
     "status": "completed"
    },
    "tags": []
   },
   "source": [
    "* If quality is increasing then , volatile acidity is decreaaing"
   ]
  },
  {
   "cell_type": "markdown",
   "id": "8207d702",
   "metadata": {
    "papermill": {
     "duration": 0.011267,
     "end_time": "2022-10-02T12:25:32.997601",
     "exception": false,
     "start_time": "2022-10-02T12:25:32.986334",
     "status": "completed"
    },
    "tags": []
   },
   "source": [
    "# quality vs citric_acid"
   ]
  },
  {
   "cell_type": "code",
   "execution_count": 9,
   "id": "b585d298",
   "metadata": {
    "execution": {
     "iopub.execute_input": "2022-10-02T12:25:33.022872Z",
     "iopub.status.busy": "2022-10-02T12:25:33.022470Z",
     "iopub.status.idle": "2022-10-02T12:25:33.548670Z",
     "shell.execute_reply": "2022-10-02T12:25:33.547254Z"
    },
    "papermill": {
     "duration": 0.541704,
     "end_time": "2022-10-02T12:25:33.551048",
     "exception": false,
     "start_time": "2022-10-02T12:25:33.009344",
     "status": "completed"
    },
    "tags": []
   },
   "outputs": [
    {
     "data": {
      "text/plain": [
       "<AxesSubplot:xlabel='quality', ylabel='citric_acid'>"
      ]
     },
     "execution_count": 9,
     "metadata": {},
     "output_type": "execute_result"
    },
    {
     "data": {
      "image/png": "[encoded data removed]",
      "text/plain": [
       "<Figure size 720x432 with 1 Axes>"
      ]
     },
     "metadata": {
      "needs_background": "light"
     },
     "output_type": "display_data"
    }
   ],
   "source": [
    "fig= plt.figure(figsize=(10,6))\n",
    "sns.barplot(x='quality',y='citric_acid', data= wine)"
   ]
  },
  {
   "cell_type": "markdown",
   "id": "59288c8f",
   "metadata": {
    "papermill": {
     "duration": 0.01139,
     "end_time": "2022-10-02T12:25:33.574747",
     "exception": false,
     "start_time": "2022-10-02T12:25:33.563357",
     "status": "completed"
    },
    "tags": []
   },
   "source": [
    "* citric acidity is increasing as we increase the quailty"
   ]
  },
  {
   "cell_type": "markdown",
   "id": "956b783b",
   "metadata": {
    "papermill": {
     "duration": 0.011626,
     "end_time": "2022-10-02T12:25:33.598540",
     "exception": false,
     "start_time": "2022-10-02T12:25:33.586914",
     "status": "completed"
    },
    "tags": []
   },
   "source": [
    "# quality vs residual_sugar"
   ]
  },
  {
   "cell_type": "code",
   "execution_count": 10,
   "id": "11706504",
   "metadata": {
    "execution": {
     "iopub.execute_input": "2022-10-02T12:25:33.624012Z",
     "iopub.status.busy": "2022-10-02T12:25:33.623607Z",
     "iopub.status.idle": "2022-10-02T12:25:34.111806Z",
     "shell.execute_reply": "2022-10-02T12:25:34.110556Z"
    },
    "papermill": {
     "duration": 0.504079,
     "end_time": "2022-10-02T12:25:34.114649",
     "exception": false,
     "start_time": "2022-10-02T12:25:33.610570",
     "status": "completed"
    },
    "tags": []
   },
   "outputs": [
    {
     "data": {
      "text/plain": [
       "<AxesSubplot:xlabel='quality', ylabel='residual_sugar'>"
      ]
     },
     "execution_count": 10,
     "metadata": {},
     "output_type": "execute_result"
    },
    {
     "data": {
      "image/png": "[encoded data removed]",
      "text/plain": [
       "<Figure size 720x432 with 1 Axes>"
      ]
     },
     "metadata": {
      "needs_background": "light"
     },
     "output_type": "display_data"
    }
   ],
   "source": [
    "fig= plt.figure(figsize=(10,6))\n",
    "sns.barplot(x='quality',y='residual_sugar', data= wine)"
   ]
  },
  {
   "cell_type": "markdown",
   "id": "7742849e",
   "metadata": {
    "papermill": {
     "duration": 0.012067,
     "end_time": "2022-10-02T12:25:34.139102",
     "exception": false,
     "start_time": "2022-10-02T12:25:34.127035",
     "status": "completed"
    },
    "tags": []
   },
   "source": [
    "# quality vs chlorides"
   ]
  },
  {
   "cell_type": "code",
   "execution_count": 11,
   "id": "9fd1b115",
   "metadata": {
    "execution": {
     "iopub.execute_input": "2022-10-02T12:25:34.165718Z",
     "iopub.status.busy": "2022-10-02T12:25:34.165311Z",
     "iopub.status.idle": "2022-10-02T12:25:34.670556Z",
     "shell.execute_reply": "2022-10-02T12:25:34.669251Z"
    },
    "papermill": {
     "duration": 0.521514,
     "end_time": "2022-10-02T12:25:34.672986",
     "exception": false,
     "start_time": "2022-10-02T12:25:34.151472",
     "status": "completed"
    },
    "tags": []
   },
   "outputs": [
    {
     "data": {
      "text/plain": [
       "<AxesSubplot:xlabel='quality', ylabel='chlorides'>"
      ]
     },
     "execution_count": 11,
     "metadata": {},
     "output_type": "execute_result"
    },
    {
     "data": {
      "image/png": "[encoded data removed]",
      "text/plain": [
       "<Figure size 720x432 with 1 Axes>"
      ]
     },
     "metadata": {
      "needs_background": "light"
     },
     "output_type": "display_data"
    }
   ],
   "source": [
    "fig= plt.figure(figsize=(10,6))\n",
    "sns.barplot(x='quality',y='chlorides', data= wine)"
   ]
  },
  {
   "cell_type": "markdown",
   "id": "03f76bf9",
   "metadata": {
    "papermill": {
     "duration": 0.011854,
     "end_time": "2022-10-02T12:25:34.697459",
     "exception": false,
     "start_time": "2022-10-02T12:25:34.685605",
     "status": "completed"
    },
    "tags": []
   },
   "source": [
    "* chlorides decreasing as we decrease the quality"
   ]
  },
  {
   "cell_type": "code",
   "execution_count": 12,
   "id": "d886ea34",
   "metadata": {
    "execution": {
     "iopub.execute_input": "2022-10-02T12:25:34.725027Z",
     "iopub.status.busy": "2022-10-02T12:25:34.724347Z",
     "iopub.status.idle": "2022-10-02T12:25:35.208069Z",
     "shell.execute_reply": "2022-10-02T12:25:35.207174Z"
    },
    "papermill": {
     "duration": 0.500114,
     "end_time": "2022-10-02T12:25:35.210366",
     "exception": false,
     "start_time": "2022-10-02T12:25:34.710252",
     "status": "completed"
    },
    "tags": []
   },
   "outputs": [
    {
     "data": {
      "text/plain": [
       "<AxesSubplot:xlabel='quality', ylabel='free_sulfur_dioxide'>"
      ]
     },
     "execution_count": 12,
     "metadata": {},
     "output_type": "execute_result"
    },
    {
     "data": {
      "image/png": "[encoded data removed]",
      "text/plain": [
       "<Figure size 720x432 with 1 Axes>"
      ]
     },
     "metadata": {
      "needs_background": "light"
     },
     "output_type": "display_data"
    }
   ],
   "source": [
    "fig= plt.figure(figsize=(10,6))\n",
    "sns.barplot(x='quality',y='free_sulfur_dioxide', data= wine)"
   ]
  },
  {
   "cell_type": "code",
   "execution_count": 13,
   "id": "51cef34e",
   "metadata": {
    "execution": {
     "iopub.execute_input": "2022-10-02T12:25:35.238388Z",
     "iopub.status.busy": "2022-10-02T12:25:35.237759Z",
     "iopub.status.idle": "2022-10-02T12:25:35.713385Z",
     "shell.execute_reply": "2022-10-02T12:25:35.712044Z"
    },
    "papermill": {
     "duration": 0.492666,
     "end_time": "2022-10-02T12:25:35.715886",
     "exception": false,
     "start_time": "2022-10-02T12:25:35.223220",
     "status": "completed"
    },
    "tags": []
   },
   "outputs": [
    {
     "data": {
      "text/plain": [
       "<AxesSubplot:xlabel='quality', ylabel='total_sulfur_dioxide'>"
      ]
     },
     "execution_count": 13,
     "metadata": {},
     "output_type": "execute_result"
    },
    {
     "data": {
      "image/png": "[encoded data removed]",
      "text/plain": [
       "<Figure size 720x432 with 1 Axes>"
      ]
     },
     "metadata": {
      "needs_background": "light"
     },
     "output_type": "display_data"
    }
   ],
   "source": [
    "fig= plt.figure(figsize=(10,6))\n",
    "sns.barplot(x='quality',y='total_sulfur_dioxide', data= wine)"
   ]
  },
  {
   "cell_type": "code",
   "execution_count": 14,
   "id": "9dd719d5",
   "metadata": {
    "execution": {
     "iopub.execute_input": "2022-10-02T12:25:35.744009Z",
     "iopub.status.busy": "2022-10-02T12:25:35.743584Z",
     "iopub.status.idle": "2022-10-02T12:25:36.228924Z",
     "shell.execute_reply": "2022-10-02T12:25:36.227528Z"
    },
    "papermill": {
     "duration": 0.502242,
     "end_time": "2022-10-02T12:25:36.231550",
     "exception": false,
     "start_time": "2022-10-02T12:25:35.729308",
     "status": "completed"
    },
    "tags": []
   },
   "outputs": [
    {
     "data": {
      "text/plain": [
       "<AxesSubplot:xlabel='quality', ylabel='sulphates'>"
      ]
     },
     "execution_count": 14,
     "metadata": {},
     "output_type": "execute_result"
    },
    {
     "data": {
      "image/png": "[encoded data removed]",
      "text/plain": [
       "<Figure size 720x432 with 1 Axes>"
      ]
     },
     "metadata": {
      "needs_background": "light"
     },
     "output_type": "display_data"
    }
   ],
   "source": [
    "fig= plt.figure(figsize=(10,6))\n",
    "sns.barplot(x='quality',y='sulphates', data= wine)\n",
    "# sulphates increases as we increase the quality"
   ]
  },
  {
   "cell_type": "code",
   "execution_count": 15,
   "id": "9667485e",
   "metadata": {
    "execution": {
     "iopub.execute_input": "2022-10-02T12:25:36.259993Z",
     "iopub.status.busy": "2022-10-02T12:25:36.259567Z",
     "iopub.status.idle": "2022-10-02T12:25:36.730232Z",
     "shell.execute_reply": "2022-10-02T12:25:36.729332Z"
    },
    "papermill": {
     "duration": 0.487507,
     "end_time": "2022-10-02T12:25:36.732457",
     "exception": false,
     "start_time": "2022-10-02T12:25:36.244950",
     "status": "completed"
    },
    "tags": []
   },
   "outputs": [
    {
     "data": {
      "text/plain": [
       "<AxesSubplot:xlabel='quality', ylabel='alcohol'>"
      ]
     },
     "execution_count": 15,
     "metadata": {},
     "output_type": "execute_result"
    },
    {
     "data": {
      "image/png": "[encoded data removed]",
      "text/plain": [
       "<Figure size 720x432 with 1 Axes>"
      ]
     },
     "metadata": {
      "needs_background": "light"
     },
     "output_type": "display_data"
    }
   ],
   "source": [
    "#Alcohol level also goes higher as te quality of wine increases\n",
    "fig = plt.figure(figsize = (10,6))\n",
    "sns.barplot(x = 'quality', y = 'alcohol', data = wine)"
   ]
  },
  {
   "cell_type": "markdown",
   "id": "1809b6e0",
   "metadata": {
    "papermill": {
     "duration": 0.013729,
     "end_time": "2022-10-02T12:25:36.760644",
     "exception": false,
     "start_time": "2022-10-02T12:25:36.746915",
     "status": "completed"
    },
    "tags": []
   },
   "source": [
    "### If the quality greater than or equal to 7 ==> good\n",
    "<br>\n",
    "\n",
    "### Else ==> bad"
   ]
  },
  {
   "cell_type": "code",
   "execution_count": 16,
   "id": "37897e3a",
   "metadata": {
    "execution": {
     "iopub.execute_input": "2022-10-02T12:25:36.790328Z",
     "iopub.status.busy": "2022-10-02T12:25:36.789868Z",
     "iopub.status.idle": "2022-10-02T12:25:36.794552Z",
     "shell.execute_reply": "2022-10-02T12:25:36.793710Z"
    },
    "papermill": {
     "duration": 0.022308,
     "end_time": "2022-10-02T12:25:36.796801",
     "exception": false,
     "start_time": "2022-10-02T12:25:36.774493",
     "status": "completed"
    },
    "tags": []
   },
   "outputs": [],
   "source": [
    "def replacenum(num):\n",
    "    if num<7:\n",
    "        return 0\n",
    "    else:\n",
    "        return 1"
   ]
  },
  {
   "cell_type": "code",
   "execution_count": 17,
   "id": "8a23e550",
   "metadata": {
    "execution": {
     "iopub.execute_input": "2022-10-02T12:25:36.827511Z",
     "iopub.status.busy": "2022-10-02T12:25:36.826219Z",
     "iopub.status.idle": "2022-10-02T12:25:36.832350Z",
     "shell.execute_reply": "2022-10-02T12:25:36.830763Z"
    },
    "papermill": {
     "duration": 0.024025,
     "end_time": "2022-10-02T12:25:36.835063",
     "exception": false,
     "start_time": "2022-10-02T12:25:36.811038",
     "status": "completed"
    },
    "tags": []
   },
   "outputs": [],
   "source": [
    "def divide(data):\n",
    "    data['quality']= data['quality'].apply(lambda x : replacenum(x))\n",
    "    "
   ]
  },
  {
   "cell_type": "code",
   "execution_count": 18,
   "id": "4b9f99a7",
   "metadata": {
    "execution": {
     "iopub.execute_input": "2022-10-02T12:25:36.864423Z",
     "iopub.status.busy": "2022-10-02T12:25:36.864011Z",
     "iopub.status.idle": "2022-10-02T12:25:36.870237Z",
     "shell.execute_reply": "2022-10-02T12:25:36.869220Z"
    },
    "papermill": {
     "duration": 0.023742,
     "end_time": "2022-10-02T12:25:36.872575",
     "exception": false,
     "start_time": "2022-10-02T12:25:36.848833",
     "status": "completed"
    },
    "tags": []
   },
   "outputs": [],
   "source": [
    "divide(wine)"
   ]
  },
  {
   "cell_type": "code",
   "execution_count": 19,
   "id": "533e956e",
   "metadata": {
    "execution": {
     "iopub.execute_input": "2022-10-02T12:25:36.903064Z",
     "iopub.status.busy": "2022-10-02T12:25:36.901861Z",
     "iopub.status.idle": "2022-10-02T12:25:36.912961Z",
     "shell.execute_reply": "2022-10-02T12:25:36.911413Z"
    },
    "papermill": {
     "duration": 0.029153,
     "end_time": "2022-10-02T12:25:36.915717",
     "exception": false,
     "start_time": "2022-10-02T12:25:36.886564",
     "status": "completed"
    },
    "tags": []
   },
   "outputs": [
    {
     "name": "stdout",
     "output_type": "stream",
     "text": [
      "[0 1]\n",
      "0    1382\n",
      "1     217\n",
      "Name: quality, dtype: int64\n",
      "(1599, 12)\n"
     ]
    }
   ],
   "source": [
    "print(wine['quality'].unique())\n",
    "print(wine['quality'].value_counts())\n",
    "print(wine.shape)"
   ]
  },
  {
   "cell_type": "code",
   "execution_count": 20,
   "id": "d1031ae8",
   "metadata": {
    "execution": {
     "iopub.execute_input": "2022-10-02T12:25:36.946463Z",
     "iopub.status.busy": "2022-10-02T12:25:36.945396Z",
     "iopub.status.idle": "2022-10-02T12:25:36.952927Z",
     "shell.execute_reply": "2022-10-02T12:25:36.951908Z"
    },
    "papermill": {
     "duration": 0.025589,
     "end_time": "2022-10-02T12:25:36.955564",
     "exception": false,
     "start_time": "2022-10-02T12:25:36.929975",
     "status": "completed"
    },
    "tags": []
   },
   "outputs": [],
   "source": [
    "X= wine.drop('quality', axis=1)\n",
    "Y= wine['quality']"
   ]
  },
  {
   "cell_type": "code",
   "execution_count": 21,
   "id": "1aa6bd64",
   "metadata": {
    "execution": {
     "iopub.execute_input": "2022-10-02T12:25:36.986126Z",
     "iopub.status.busy": "2022-10-02T12:25:36.985143Z",
     "iopub.status.idle": "2022-10-02T12:25:37.359701Z",
     "shell.execute_reply": "2022-10-02T12:25:37.358417Z"
    },
    "papermill": {
     "duration": 0.392647,
     "end_time": "2022-10-02T12:25:37.362421",
     "exception": false,
     "start_time": "2022-10-02T12:25:36.969774",
     "status": "completed"
    },
    "tags": []
   },
   "outputs": [],
   "source": [
    "from sklearn.preprocessing import StandardScaler, LabelEncoder\n",
    "from sklearn.model_selection import train_test_split\n",
    "# Models\n",
    "from sklearn.ensemble import RandomForestClassifier\n",
    "from sklearn.svm import SVC\n",
    "from sklearn.linear_model import SGDClassifier\n",
    "\n",
    "from sklearn.model_selection import GridSearchCV, cross_val_score\n"
   ]
  },
  {
   "cell_type": "code",
   "execution_count": 22,
   "id": "58b4d4e8",
   "metadata": {
    "execution": {
     "iopub.execute_input": "2022-10-02T12:25:37.391617Z",
     "iopub.status.busy": "2022-10-02T12:25:37.391222Z",
     "iopub.status.idle": "2022-10-02T12:25:37.396766Z",
     "shell.execute_reply": "2022-10-02T12:25:37.395753Z"
    },
    "papermill": {
     "duration": 0.022763,
     "end_time": "2022-10-02T12:25:37.399107",
     "exception": false,
     "start_time": "2022-10-02T12:25:37.376344",
     "status": "completed"
    },
    "tags": []
   },
   "outputs": [],
   "source": [
    "sc= StandardScaler()"
   ]
  },
  {
   "cell_type": "code",
   "execution_count": 23,
   "id": "c7faac6e",
   "metadata": {
    "execution": {
     "iopub.execute_input": "2022-10-02T12:25:37.429262Z",
     "iopub.status.busy": "2022-10-02T12:25:37.428481Z",
     "iopub.status.idle": "2022-10-02T12:25:37.444120Z",
     "shell.execute_reply": "2022-10-02T12:25:37.442668Z"
    },
    "papermill": {
     "duration": 0.033761,
     "end_time": "2022-10-02T12:25:37.447091",
     "exception": false,
     "start_time": "2022-10-02T12:25:37.413330",
     "status": "completed"
    },
    "tags": []
   },
   "outputs": [],
   "source": [
    "X_train, X_test, Y_train, Y_test= train_test_split(X,Y, test_size=0.2, random_state=42)\n",
    "X_train= sc.fit_transform(X_train)\n",
    "X_test= sc.fit_transform(X_test)\n"
   ]
  },
  {
   "cell_type": "code",
   "execution_count": 24,
   "id": "f9ab71ff",
   "metadata": {
    "execution": {
     "iopub.execute_input": "2022-10-02T12:25:37.476393Z",
     "iopub.status.busy": "2022-10-02T12:25:37.475936Z",
     "iopub.status.idle": "2022-10-02T12:25:37.482469Z",
     "shell.execute_reply": "2022-10-02T12:25:37.480824Z"
    },
    "papermill": {
     "duration": 0.024019,
     "end_time": "2022-10-02T12:25:37.484939",
     "exception": false,
     "start_time": "2022-10-02T12:25:37.460920",
     "status": "completed"
    },
    "tags": []
   },
   "outputs": [],
   "source": [
    "def get_score(model, X_train, X_test, Y_train, Y_test):\n",
    "    model.fit(X_train, Y_train)\n",
    "    return model.score(X_test, Y_test)"
   ]
  },
  {
   "cell_type": "code",
   "execution_count": 25,
   "id": "cfe28bf0",
   "metadata": {
    "execution": {
     "iopub.execute_input": "2022-10-02T12:25:37.514062Z",
     "iopub.status.busy": "2022-10-02T12:25:37.513657Z",
     "iopub.status.idle": "2022-10-02T12:25:38.212052Z",
     "shell.execute_reply": "2022-10-02T12:25:38.210447Z"
    },
    "papermill": {
     "duration": 0.716123,
     "end_time": "2022-10-02T12:25:38.214879",
     "exception": false,
     "start_time": "2022-10-02T12:25:37.498756",
     "status": "completed"
    },
    "tags": []
   },
   "outputs": [
    {
     "name": "stdout",
     "output_type": "stream",
     "text": [
      "Score for SVM is:0.875\n",
      "Score for RFC is:0.875\n",
      "Score for SGD is:0.846875\n"
     ]
    }
   ],
   "source": [
    "# # Random Forest Classifier\n",
    "# print(f\"Score of Logistic : {get_score(RandomForestClassifier(n_estimators=200), X_train, X_test, Y_train, Y_test)}\")\n",
    "print(f\"Score for SVM is:{ get_score(SVC(gamma='auto'),X_train, X_test, Y_train, Y_test)}\")\n",
    "print(f\"Score for RFC is:{ get_score(RandomForestClassifier(n_estimators=200),X_train, X_test, Y_train, Y_test)}\")\n",
    "print(f\"Score for SGD is:{ get_score(SGDClassifier(penalty=None),X_train, X_test, Y_train, Y_test)}\")"
   ]
  },
  {
   "cell_type": "markdown",
   "id": "d41d1ece",
   "metadata": {
    "papermill": {
     "duration": 0.013799,
     "end_time": "2022-10-02T12:25:38.242756",
     "exception": false,
     "start_time": "2022-10-02T12:25:38.228957",
     "status": "completed"
    },
    "tags": []
   },
   "source": [
    "## Lets try to increase ou model accuracy of models"
   ]
  },
  {
   "cell_type": "code",
   "execution_count": 26,
   "id": "32c14673",
   "metadata": {
    "execution": {
     "iopub.execute_input": "2022-10-02T12:25:38.272947Z",
     "iopub.status.busy": "2022-10-02T12:25:38.272519Z",
     "iopub.status.idle": "2022-10-02T12:25:38.277695Z",
     "shell.execute_reply": "2022-10-02T12:25:38.276428Z"
    },
    "papermill": {
     "duration": 0.022717,
     "end_time": "2022-10-02T12:25:38.280015",
     "exception": false,
     "start_time": "2022-10-02T12:25:38.257298",
     "status": "completed"
    },
    "tags": []
   },
   "outputs": [],
   "source": [
    "# MODELS\n",
    "\n",
    "# scv= SVC()\n",
    "# rfc = RandomForestClassifier(n_estimators=200)\n",
    "# sgd = SGDClassifier(penalty=None)\n"
   ]
  },
  {
   "cell_type": "code",
   "execution_count": 27,
   "id": "b0ea5a5b",
   "metadata": {
    "execution": {
     "iopub.execute_input": "2022-10-02T12:25:38.310038Z",
     "iopub.status.busy": "2022-10-02T12:25:38.309328Z",
     "iopub.status.idle": "2022-10-02T12:25:38.315926Z",
     "shell.execute_reply": "2022-10-02T12:25:38.315025Z"
    },
    "papermill": {
     "duration": 0.023957,
     "end_time": "2022-10-02T12:25:38.318093",
     "exception": false,
     "start_time": "2022-10-02T12:25:38.294136",
     "status": "completed"
    },
    "tags": []
   },
   "outputs": [],
   "source": [
    "model_params={\n",
    "    'scv':{\n",
    "        'model':SVC(gamma='auto'),\n",
    "        'params':{\n",
    "            'C':[0.1,0.8,0.9,1,1.1,1.2,1.3,1.4],\n",
    "            'kernel':['rbf','linear'],\n",
    "            'gamma':[0.1,0.8,0.9,1,1.1,1.2,1.3,1.4]\n",
    "        }\n",
    "    },\n",
    "    'random_forest':{\n",
    "        'model':RandomForestClassifier(),\n",
    "        'params':{\n",
    "            'n_estimators':[10,50,100,150,200,250],\n",
    "            'max_depth':[5,10,15,20,25,30]\n",
    "            \n",
    "        }\n",
    "    }\n",
    "}"
   ]
  },
  {
   "cell_type": "code",
   "execution_count": 28,
   "id": "33b0a612",
   "metadata": {
    "execution": {
     "iopub.execute_input": "2022-10-02T12:25:38.348083Z",
     "iopub.status.busy": "2022-10-02T12:25:38.347380Z",
     "iopub.status.idle": "2022-10-02T12:27:08.369741Z",
     "shell.execute_reply": "2022-10-02T12:27:08.368422Z"
    },
    "papermill": {
     "duration": 90.05421,
     "end_time": "2022-10-02T12:27:08.386488",
     "exception": false,
     "start_time": "2022-10-02T12:25:38.332278",
     "status": "completed"
    },
    "tags": []
   },
   "outputs": [
    {
     "data": {
      "text/html": [
       "<div>\n",
       "<style scoped>\n",
       "    .dataframe tbody tr th:only-of-type {\n",
       "        vertical-align: middle;\n",
       "    }\n",
       "\n",
       "    .dataframe tbody tr th {\n",
       "        vertical-align: top;\n",
       "    }\n",
       "\n",
       "    .dataframe thead th {\n",
       "        text-align: right;\n",
       "    }\n",
       "</style>\n",
       "<table border=\"1\" class=\"dataframe\">\n",
       "  <thead>\n",
       "    <tr style=\"text-align: right;\">\n",
       "      <th></th>\n",
       "      <th>model</th>\n",
       "      <th>best_score</th>\n",
       "      <th>best_params</th>\n",
       "    </tr>\n",
       "  </thead>\n",
       "  <tbody>\n",
       "    <tr>\n",
       "      <th>0</th>\n",
       "      <td>scv</td>\n",
       "      <td>0.904614</td>\n",
       "      <td>{'C': 1.1, 'gamma': 1.1, 'kernel': 'rbf'}</td>\n",
       "    </tr>\n",
       "    <tr>\n",
       "      <th>1</th>\n",
       "      <td>random_forest</td>\n",
       "      <td>0.909311</td>\n",
       "      <td>{'max_depth': 20, 'n_estimators': 150}</td>\n",
       "    </tr>\n",
       "  </tbody>\n",
       "</table>\n",
       "</div>"
      ],
      "text/plain": [
       "           model  best_score                                best_params\n",
       "0            scv    0.904614  {'C': 1.1, 'gamma': 1.1, 'kernel': 'rbf'}\n",
       "1  random_forest    0.909311     {'max_depth': 20, 'n_estimators': 150}"
      ]
     },
     "execution_count": 28,
     "metadata": {},
     "output_type": "execute_result"
    }
   ],
   "source": [
    "scores = []\n",
    "\n",
    "for model_name, mp in model_params.items():\n",
    "    clf =  GridSearchCV(mp['model'], mp['params'], cv=5, return_train_score=False)\n",
    "    clf.fit(X_train, Y_train)\n",
    "    scores.append({\n",
    "        'model': model_name,\n",
    "        'best_score': clf.best_score_,\n",
    "        'best_params': clf.best_params_\n",
    "    })\n",
    "    \n",
    "df = pd.DataFrame(scores,columns=['model','best_score','best_params'])\n",
    "df"
   ]
  },
  {
   "cell_type": "code",
   "execution_count": 29,
   "id": "d5b42ef1",
   "metadata": {
    "execution": {
     "iopub.execute_input": "2022-10-02T12:27:08.416211Z",
     "iopub.status.busy": "2022-10-02T12:27:08.415796Z",
     "iopub.status.idle": "2022-10-02T12:27:08.457161Z",
     "shell.execute_reply": "2022-10-02T12:27:08.455520Z"
    },
    "papermill": {
     "duration": 0.060066,
     "end_time": "2022-10-02T12:27:08.460558",
     "exception": false,
     "start_time": "2022-10-02T12:27:08.400492",
     "status": "completed"
    },
    "tags": []
   },
   "outputs": [
    {
     "name": "stdout",
     "output_type": "stream",
     "text": [
      "Score for RFC is:0.875\n"
     ]
    }
   ],
   "source": [
    "#Let's run our rfc again with the best parameters.\n",
    "\n",
    "print(f\"Score for RFC is:{ get_score(RandomForestClassifier(n_estimators=10,max_depth= 20),X_train, X_test, Y_train, Y_test)}\")"
   ]
  },
  {
   "cell_type": "code",
   "execution_count": 30,
   "id": "06bc9711",
   "metadata": {
    "execution": {
     "iopub.execute_input": "2022-10-02T12:27:08.491797Z",
     "iopub.status.busy": "2022-10-02T12:27:08.491094Z",
     "iopub.status.idle": "2022-10-02T12:27:08.531222Z",
     "shell.execute_reply": "2022-10-02T12:27:08.529868Z"
    },
    "papermill": {
     "duration": 0.057972,
     "end_time": "2022-10-02T12:27:08.533831",
     "exception": false,
     "start_time": "2022-10-02T12:27:08.475859",
     "status": "completed"
    },
    "tags": []
   },
   "outputs": [
    {
     "data": {
      "text/plain": [
       "RandomForestClassifier(max_depth=20, n_estimators=10)"
      ]
     },
     "execution_count": 30,
     "metadata": {},
     "output_type": "execute_result"
    }
   ],
   "source": [
    "rfc_model =RandomForestClassifier(n_estimators=10,max_depth= 20)\n",
    "rfc_model.fit(X_train, Y_train)"
   ]
  },
  {
   "cell_type": "code",
   "execution_count": 31,
   "id": "c68dee1f",
   "metadata": {
    "execution": {
     "iopub.execute_input": "2022-10-02T12:27:08.563735Z",
     "iopub.status.busy": "2022-10-02T12:27:08.563324Z",
     "iopub.status.idle": "2022-10-02T12:27:08.576562Z",
     "shell.execute_reply": "2022-10-02T12:27:08.575510Z"
    },
    "papermill": {
     "duration": 0.030573,
     "end_time": "2022-10-02T12:27:08.578837",
     "exception": false,
     "start_time": "2022-10-02T12:27:08.548264",
     "status": "completed"
    },
    "tags": []
   },
   "outputs": [
    {
     "data": {
      "text/plain": [
       "array([0, 0, 0, 0, 0, 0, 0, 0, 0, 0, 0, 0, 0, 0, 0, 1, 0, 0, 1, 0, 0, 0,\n",
       "       0, 0, 0, 0, 0, 0, 0, 0, 0, 0, 0, 0, 0, 0, 0, 0, 0, 0, 0, 0, 0, 0,\n",
       "       0, 0, 0, 0, 0, 0, 0, 0, 0, 1, 0, 0, 0, 1, 0, 0, 0, 0, 0, 0, 0, 0,\n",
       "       1, 0, 1, 0, 0, 0, 0, 0, 0, 0, 1, 0, 0, 0, 0, 1, 0, 0, 0, 0, 0, 0,\n",
       "       0, 0, 0, 0, 0, 0, 0, 0, 0, 0, 0, 0, 0, 0, 0, 0, 0, 0, 0, 0, 0, 0,\n",
       "       0, 0, 1, 0, 0, 0, 0, 0, 0, 0, 0, 0, 0, 0, 0, 0, 0, 0, 0, 0, 0, 0,\n",
       "       0, 0, 0, 0, 0, 0, 0, 0, 1, 0, 0, 0, 0, 0, 0, 0, 0, 0, 0, 0, 0, 0,\n",
       "       0, 0, 0, 0, 0, 0, 1, 0, 0, 0, 0, 0, 0, 0, 0, 0, 0, 0, 1, 0, 1, 0,\n",
       "       0, 0, 0, 0, 0, 0, 0, 0, 0, 1, 0, 0, 1, 0, 0, 0, 0, 0, 0, 0, 0, 0,\n",
       "       0, 0, 0, 0, 0, 0, 0, 0, 0, 0, 0, 0, 1, 0, 0, 0, 0, 0, 0, 0, 0, 0,\n",
       "       0, 0, 1, 0, 0, 0, 0, 1, 0, 0, 0, 0, 0, 0, 0, 0, 0, 0, 0, 0, 0, 0,\n",
       "       0, 1, 0, 1, 0, 0, 0, 0, 0, 0, 0, 0, 0, 0, 0, 0, 0, 0, 0, 0, 0, 1,\n",
       "       0, 0, 0, 0, 0, 0, 0, 0, 0, 0, 0, 0, 0, 0, 0, 0, 1, 0, 0, 0, 0, 0,\n",
       "       0, 0, 0, 0, 0, 0, 1, 0, 0, 0, 0, 1, 1, 0, 0, 0, 0, 0, 0, 0, 0, 0,\n",
       "       0, 1, 0, 0, 0, 0, 0, 0, 0, 0, 1, 0])"
      ]
     },
     "execution_count": 31,
     "metadata": {},
     "output_type": "execute_result"
    }
   ],
   "source": [
    "import pickle\n",
    "saved_model= pickle.dumps(rfc_model)\n",
    "rfc_from_pickle = pickle.loads(saved_model)\n",
    "rfc_from_pickle.predict(X_test)"
   ]
  },
  {
   "cell_type": "code",
   "execution_count": 32,
   "id": "b7d0a841",
   "metadata": {
    "execution": {
     "iopub.execute_input": "2022-10-02T12:27:08.608874Z",
     "iopub.status.busy": "2022-10-02T12:27:08.608484Z",
     "iopub.status.idle": "2022-10-02T12:27:08.614902Z",
     "shell.execute_reply": "2022-10-02T12:27:08.613685Z"
    },
    "papermill": {
     "duration": 0.024793,
     "end_time": "2022-10-02T12:27:08.618002",
     "exception": false,
     "start_time": "2022-10-02T12:27:08.593209",
     "status": "completed"
    },
    "tags": []
   },
   "outputs": [
    {
     "name": "stdout",
     "output_type": "stream",
     "text": [
      "[ 0.21833164  0.88971201  0.19209222  0.30972563 -0.04964208  0.69100692\n",
      "  1.04293362  1.84669643  1.09349989  0.45822284  1.12317723]\n",
      "0\n"
     ]
    }
   ],
   "source": [
    "print(X_train[0])\n",
    "print(Y_train[0])"
   ]
  },
  {
   "cell_type": "code",
   "execution_count": 33,
   "id": "557a38aa",
   "metadata": {
    "execution": {
     "iopub.execute_input": "2022-10-02T12:27:08.649257Z",
     "iopub.status.busy": "2022-10-02T12:27:08.648820Z",
     "iopub.status.idle": "2022-10-02T12:27:08.660541Z",
     "shell.execute_reply": "2022-10-02T12:27:08.659345Z"
    },
    "papermill": {
     "duration": 0.030315,
     "end_time": "2022-10-02T12:27:08.663021",
     "exception": false,
     "start_time": "2022-10-02T12:27:08.632706",
     "status": "completed"
    },
    "tags": []
   },
   "outputs": [
    {
     "data": {
      "text/plain": [
       "array([0])"
      ]
     },
     "execution_count": 33,
     "metadata": {},
     "output_type": "execute_result"
    }
   ],
   "source": [
    "rfc_model.predict([[ 0.21833164,  0.88971201,  0.19209222,  0.30972563, -0.04964208,\n",
    "        0.69100692,  1.04293362,  1.84669643,  1.09349989,  0.45822284,\n",
    "        1.12317723]])"
   ]
  },
  {
   "cell_type": "code",
   "execution_count": 34,
   "id": "75917c5a",
   "metadata": {
    "execution": {
     "iopub.execute_input": "2022-10-02T12:27:08.693375Z",
     "iopub.status.busy": "2022-10-02T12:27:08.692991Z",
     "iopub.status.idle": "2022-10-02T12:27:08.704429Z",
     "shell.execute_reply": "2022-10-02T12:27:08.703516Z"
    },
    "papermill": {
     "duration": 0.029165,
     "end_time": "2022-10-02T12:27:08.706825",
     "exception": false,
     "start_time": "2022-10-02T12:27:08.677660",
     "status": "completed"
    },
    "tags": []
   },
   "outputs": [
    {
     "data": {
      "text/plain": [
       "0.86875"
      ]
     },
     "execution_count": 34,
     "metadata": {},
     "output_type": "execute_result"
    }
   ],
   "source": [
    "rfc_model.score(X_test, Y_test)"
   ]
  },
  {
   "cell_type": "code",
   "execution_count": 35,
   "id": "fd507ed6",
   "metadata": {
    "execution": {
     "iopub.execute_input": "2022-10-02T12:27:08.737697Z",
     "iopub.status.busy": "2022-10-02T12:27:08.737313Z",
     "iopub.status.idle": "2022-10-02T12:27:08.747670Z",
     "shell.execute_reply": "2022-10-02T12:27:08.746539Z"
    },
    "papermill": {
     "duration": 0.028903,
     "end_time": "2022-10-02T12:27:08.750292",
     "exception": false,
     "start_time": "2022-10-02T12:27:08.721389",
     "status": "completed"
    },
    "tags": []
   },
   "outputs": [
    {
     "data": {
      "text/plain": [
       "array([0])"
      ]
     },
     "execution_count": 35,
     "metadata": {},
     "output_type": "execute_result"
    }
   ],
   "source": [
    "rfc_model.predict([[7.4   ,  0.7   ,  0.    ,  1.9   ,  0.076 , 11.    , 34.    ,\n",
    "        0.9978,  3.51  ,  0.56  ,  9.4 ]])"
   ]
  },
  {
   "cell_type": "code",
   "execution_count": null,
   "id": "e8aa9ac2",
   "metadata": {
    "papermill": {
     "duration": 0.014629,
     "end_time": "2022-10-02T12:27:08.779779",
     "exception": false,
     "start_time": "2022-10-02T12:27:08.765150",
     "status": "completed"
    },
    "tags": []
   },
   "outputs": [],
   "source": []
  },
  {
   "cell_type": "code",
   "execution_count": null,
   "id": "3a9ebb2f",
   "metadata": {
    "papermill": {
     "duration": 0.014237,
     "end_time": "2022-10-02T12:27:08.808936",
     "exception": false,
     "start_time": "2022-10-02T12:27:08.794699",
     "status": "completed"
    },
    "tags": []
   },
   "outputs": [],
   "source": []
  }
 ],
 "metadata": {
  "kernelspec": {
   "display_name": "Python 3",
   "language": "python",
   "name": "python3"
  },
  "language_info": {
   "codemirror_mode": {
    "name": "ipython",
    "version": 3
   },
   "file_extension": ".py",
   "mimetype": "text/x-python",
   "name": "python",
   "nbconvert_exporter": "python",
   "pygments_lexer": "ipython3",
   "version": "3.7.12"
  },
  "papermill": {
   "default_parameters": {},
   "duration": 108.276379,
   "end_time": "2022-10-02T12:27:09.544990",
   "environment_variables": {},
   "exception": null,
   "input_path": "__notebook__.ipynb",
   "output_path": "__notebook__.ipynb",
   "parameters": {},
   "start_time": "2022-10-02T12:25:21.268611",
   "version": "2.3.4"
  }
 },
 "nbformat": 4,
 "nbformat_minor": 5
}
